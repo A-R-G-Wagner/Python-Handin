{
 "cells": [
  {
   "cell_type": "markdown",
   "metadata": {},
   "source": [
    "# Week 8 handin"
   ]
  },
  {
   "cell_type": "markdown",
   "metadata": {},
   "source": [
    "## Assignment\n",
    "Denne liste af milkshakes skal bruges i opgaverne herunder.\n",
    "\n",
    "Milkshakemenuen:<br><br>\n",
    "Chokolade 0.5l 25kr<br>\n",
    "Chokolade 0.75l 30kr<br>\n",
    "Vanilje 0.5l 25kr<br>\n",
    "Vanilje 0.75l 30kr<br>\n",
    "Banan 0.5l 30kr<br>\n",
    "Ananas 0.5l 30kr<br>\n",
    "Mint 0.5l 20kr<br>\n",
    "\n",
    "\n",
    "## Exercise 1\n",
    "a)\n",
    "Opret en tabel som hedder 'milkshakes'\n",
    "\n",
    "b)\n",
    "Indfør milkshakemenuen i tabellen 'milkshakes'\n",
    "  \n",
    "  \n",
    "## Exercise 2\n",
    "a)\n",
    "Opret en metode til at se alle milkshakes i størrelsen 0.5l\n",
    "\n",
    "b)\n",
    "Opret en metode til at indføre en ny milkshake\n",
    "\n",
    "c)\n",
    "Opret en metode til at slette en milkshake\n",
    "\n",
    "d)\n",
    "Opret en metode til at ændre i prisen på en milkshake\n",
    "\n",
    "## Exercise 3\n",
    "\n",
    "Opret en restful webservice med følgende request:\n",
    "\n",
    "- Get all milkshakes - returner alle milkshakes fra milkshakes tabellen.\n",
    "- Add a milkshake - opretter en ny milkshake i milkshakes tabellen.\n",
    "\n",
    "### Author\n",
    "Hold E  \n",
    "Gruppe 10  \n",
    "Alex Wagner - cph-aw116 - cph-aw116@cphbusiness.dk  \n",
    "Joakim Skaarup Stensnæs - cph-js437 - cph-js437@cphbusiness.dk  "
   ]
  },
  {
   "cell_type": "markdown",
   "metadata": {},
   "source": [
    "## Status\n",
    "Exercise 1+2+3 done<br>\n"
   ]
  },
  {
   "cell_type": "markdown",
   "metadata": {},
   "source": [
    "## Solution part 1"
   ]
  },
  {
   "cell_type": "code",
   "execution_count": 1,
   "metadata": {},
   "outputs": [
    {
     "name": "stdout",
     "output_type": "stream",
     "text": [
      "<mysql.connector.connection_cext.CMySQLConnection object at 0x7fc8dc0ae150>\n"
     ]
    }
   ],
   "source": [
    "# 1a\n",
    "# Via konsollen opret en database til dagens opgave:\n",
    "# CREATE DATABASE week8;\n",
    "# USE week8;\n",
    "\n",
    "import mysql.connector as mysql\n",
    "import sqlalchemy as alch\n",
    "import pandas as pd\n",
    "\n",
    "SQLALCHEMY_DATABASE_URL = \"mysql+mysqlconnector://root:root@db/week8\"\n",
    "engine = alch.create_engine(SQLALCHEMY_DATABASE_URL)\n",
    "\n",
    "db = mysql.connect(host = \"db\", user = \"root\", passwd = \"root\", db = \"week8\")\n",
    "\n",
    "print(db)"
   ]
  },
  {
   "cell_type": "code",
   "execution_count": 2,
   "metadata": {
    "scrolled": false
   },
   "outputs": [],
   "source": [
    "# 1b\n",
    "df = pd.DataFrame({'flavor':['Chokolade','Chokolade','Vanilje','Vanilje','Banan','Ananas','Mint'],\n",
    "                  'size':['0.5','0.75','0.5','0.75','0.5','0.5','0.5'],\n",
    "                  'price':['25','30','25','30','30','30','20']})\n",
    "\n",
    "df = df.applymap(str)\n",
    "df.to_sql('milkshakes',con=engine, if_exists='append', index = False)"
   ]
  },
  {
   "cell_type": "markdown",
   "metadata": {},
   "source": [
    "## Solution part 2"
   ]
  },
  {
   "cell_type": "code",
   "execution_count": 3,
   "metadata": {},
   "outputs": [
    {
     "name": "stdout",
     "output_type": "stream",
     "text": [
      "[('Chokolade', '0.5', '25'), ('Vanilje', '0.5', '25'), ('Banan', '0.5', '30'), ('Ananas', '0.5', '30'), ('Mint', '0.5', '20')]\n"
     ]
    }
   ],
   "source": [
    "# 2a\n",
    "def getShakeSize(size):\n",
    "    query = 'SELECT * FROM milkshakes WHERE size =' + str(size)\n",
    "    ResultProxy = engine.connect().execute(query)\n",
    "    ResultSet = ResultProxy.fetchall()\n",
    "    \n",
    "    return ResultSet\n",
    "\n",
    "print(getShakeSize(0.5))"
   ]
  },
  {
   "cell_type": "code",
   "execution_count": 4,
   "metadata": {
    "scrolled": false
   },
   "outputs": [],
   "source": [
    "# 2b\n",
    "def newShake(cnx, flavor, size, price):\n",
    "    cursor = cnx.cursor(prepared=True)\n",
    "    \n",
    "    query = \"INSERT INTO milkshakes(flavor,size,price) VALUES(%s,%s,%s)\"\n",
    "    cursor.execute(query,(flavor,str(size),str(price),))\n",
    "    cnx.commit()\n",
    "    cursor.close()\n",
    "    \n",
    "newShake(db,\"Kanel\",0.5,25)\n",
    "newShake(db,\"Kanel\",0.75,30)"
   ]
  },
  {
   "cell_type": "code",
   "execution_count": 5,
   "metadata": {
    "scrolled": true
   },
   "outputs": [],
   "source": [
    "# 2c\n",
    "def deleteShakeWithFlavorAndSize(cnx, flavor, size):\n",
    "    cursor = cnx.cursor(prepared=True)\n",
    "    \n",
    "    query = \"DELETE FROM milkshakes WHERE (flavor = %s AND size = %s)\"\n",
    "    \n",
    "    cursor.execute(query,(flavor, size))\n",
    "    cnx.commit()\n",
    "    cursor.close()\n",
    "    #cnx.close()\n",
    "\n",
    "deleteShakeWithFlavorAndSize(db, \"Kanel\", 0.75)   "
   ]
  },
  {
   "cell_type": "code",
   "execution_count": 6,
   "metadata": {},
   "outputs": [],
   "source": [
    "# 2d\n",
    "def updatePriceOnShake(cnx, flavor, size, price):\n",
    "    cursor = cnx.cursor(prepared=True)\n",
    "    \n",
    "    query = \"UPDATE milkshakes SET price = %s WHERE (flavor = %s AND size = %s)\"\n",
    "    \n",
    "    cursor.execute(query,(price, flavor, size,))\n",
    "    cnx.commit()\n",
    "    cursor.close()\n",
    "    #cnx.close()\n",
    "    \n",
    "updatePriceOnShake(db, \"Kanel\", 0.5, 30)"
   ]
  },
  {
   "cell_type": "markdown",
   "metadata": {},
   "source": [
    "## Solution part 3"
   ]
  },
  {
   "cell_type": "code",
   "execution_count": null,
   "metadata": {},
   "outputs": [],
   "source": [
    "#3\n",
    "\n",
    "#Script med flask metoder: python_handin_template/flask/week8.py\n",
    "\n",
    "#from flask import Flask, jsonify, request\n",
    "#import sqlalchemy as alch\n",
    "\n",
    "#app = Flask(__name__)\n",
    "#SQLALCHEMY_DATABASE_URL = \"mysql+mysqlconnector://root:root@db/week8\"\n",
    "#engine = alch.create_engine(SQLALCHEMY_DATABASE_URL)\n",
    "\n",
    "#@app.route('/')\n",
    "#def default():\n",
    "#    return 'Hello, Shakes!'\n",
    "\n",
    "#@app.route('/milkshakes', methods=['GET'])\n",
    "#def GetAllShakes():\n",
    "#    query = 'SELECT * FROM milkshakes'\n",
    "#    ResultProxy = engine.connect().execute(query)\n",
    "#    ResultSet = ResultProxy.fetchall()\n",
    "    \n",
    "#    return jsonify([dict(row) for row in ResultSet])\n",
    "\n",
    "#@app.route('/milkshakes/new', methods=['POST'])\n",
    "#def newShake():\n",
    "#    shake = {\n",
    "#        'flavor': request.json['flavor'],\n",
    "#        'size': request.json['size'],\n",
    "#        'price': request.json['price']\n",
    "#    }\n",
    "#    \n",
    "#    query = \"INSERT INTO milkshakes(flavor,size,price) VALUES(%s,%s,%s)\"\n",
    "#    engine.connect().execute(query,(shake[\"flavor\"],shake[\"size\"],shake[\"price\"]))\n",
    "#    \n",
    "#    return jsonify(shake)\n",
    "    "
   ]
  }
 ],
 "metadata": {
  "kernelspec": {
   "display_name": "Python 3",
   "language": "python",
   "name": "python3"
  },
  "language_info": {
   "codemirror_mode": {
    "name": "ipython",
    "version": 3
   },
   "file_extension": ".py",
   "mimetype": "text/x-python",
   "name": "python",
   "nbconvert_exporter": "python",
   "pygments_lexer": "ipython3",
   "version": "3.7.6"
  }
 },
 "nbformat": 4,
 "nbformat_minor": 4
}
