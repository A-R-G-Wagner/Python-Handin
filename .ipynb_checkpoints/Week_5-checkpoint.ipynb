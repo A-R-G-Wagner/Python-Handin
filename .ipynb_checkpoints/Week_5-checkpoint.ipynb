{
 "cells": [
  {
   "cell_type": "markdown",
   "metadata": {},
   "source": [
    "# Handin exercise for week 5: Pandas"
   ]
  },
  {
   "cell_type": "markdown",
   "metadata": {},
   "source": [
    "## Ex1 Use data from Danmarks Statistik - Databanken\n",
    "1. Go to https://www.dst.dk/da/Statistik/brug-statistikken/muligheder-i-statistikbanken/api#testkonsol\n",
    "2. Open 'Konsol' and click 'Start Konsol'\n",
    "3. In the console at pt 1: choose 'Retrieve tables', pt 2: choose get request and json format and pt 3: execute:\n",
    "  1. check the result\n",
    "  2. in the code below this same get request is used to get information about all available data tables in 'databanken'. \n",
    "4. Change pt. 1 in the console to 'Retrieve data', pt 2: 'get request' and Table id: 'FOLK1A', format: csv, delimiter: semicolon and click: 'Variable and value codes' and choose some sub categories (Hint: hover over the codes to see their meaning). Finally execute and see what data you get.\n",
    "5. With data aggregation and data visualization answer the following questions:\n",
    "  1. What is the change in pct of divorced danes from 2008 to 2020?\n",
    "  2. Which of the 5 biggest cities has the highest percentage of 'Never Married' in 2020?\n",
    "  3. Show a bar chart of changes in marrital status in Copenhagen from 2008 till now\n",
    "  4. Show 2 plots in same figure: 'Married' and 'Never Married' for all ages in DK in 2020 (Hint: x axis is age from 0-125, y axis is how many people in the 2 categories). Add lengend to show names on graphs"
   ]
  },
  {
   "cell_type": "markdown",
   "metadata": {},
   "source": [
    "## Status\n",
    "Opg 5A, 5B, 5C complete"
   ]
  },
  {
   "cell_type": "markdown",
   "metadata": {},
   "source": [
    "## Solution part 1"
   ]
  },
  {
   "cell_type": "code",
   "execution_count": 1,
   "metadata": {},
   "outputs": [],
   "source": [
    "import pandas as pd\n",
    "import math"
   ]
  },
  {
   "cell_type": "code",
   "execution_count": 2,
   "metadata": {},
   "outputs": [],
   "source": [
    "#csv fra fil:\n",
    "file ='../data/Fa.csv'\n",
    "fa = pd.read_csv(file,sep=';')\n"
   ]
  },
  {
   "cell_type": "code",
   "execution_count": 3,
   "metadata": {},
   "outputs": [],
   "source": [
    "# 5 A\n",
    "url = ('https://api.statbank.dk/v1/data/FOLK1A/CSV?valuePresentation=Value&delimiter=Semicolon&Tid=*&CIVILSTAND=F')\n",
    "data = pd.read_csv(url,sep=';')\n"
   ]
  },
  {
   "cell_type": "code",
   "execution_count": 4,
   "metadata": {},
   "outputs": [
    {
     "name": "stdout",
     "output_type": "stream",
     "text": [
      "28.81 %\n"
     ]
    }
   ],
   "source": [
    "year2008 = data.iloc[0][2]\n",
    "year2020 = data.iloc[-2][2]\n",
    "print(round((year2020/year2008-1)*100,2),\"%\")"
   ]
  },
  {
   "cell_type": "code",
   "execution_count": 5,
   "metadata": {},
   "outputs": [
    {
     "name": "stdout",
     "output_type": "stream",
     "text": [
      "Byen med højeste andel af ugifte er: København\n"
     ]
    }
   ],
   "source": [
    "# 5 B\n",
    "url = ('https://api.statbank.dk/v1/data/FOLK1A/CSV?valuePresentation=Value&delimiter=Semicolon&OMR%C3%85DE=*&Tid=2020K4&CIVILSTAND=TOT%2CU')\n",
    "data = pd.read_csv(url,sep=';')\n",
    "big_cities = ['København','Odense','Aalborg','Aarhus','Esbjerg']\n",
    "never_maried = pd.DataFrame(columns = [\"OMRÅDE\",\"ANDEL\"])\n",
    "\n",
    "big5 = data[data['OMRÅDE'].isin(big_cities)].sort_values(by='INDHOLD',ascending=False)\n",
    "\n",
    "mask_all_status = big5[:]['CIVILSTAND'] == 'I alt'\n",
    "mask_unmarried_status = big5[:]['CIVILSTAND'] == 'Ugift'\n",
    "for x in range (len(big_cities)):\n",
    "    total = big5[mask_all_status].iloc[x,3]\n",
    "    ugifte = big5[mask_unmarried_status].iloc[x,3]\n",
    "    never_maried.loc[x] = [big5[mask_all_status].iloc[x,0]] + [ugifte/total]\n",
    "\n",
    "never_maried = never_maried.sort_values(by='ANDEL',ascending=False)\n",
    "print(\"Byen med højeste andel af ugifte er:\",never_maried.iloc[0,0])"
   ]
  },
  {
   "cell_type": "code",
   "execution_count": null,
   "metadata": {
    "scrolled": true
   },
   "outputs": [],
   "source": [
    "# 5 C\n",
    "\n",
    "url = ('https://api.statbank.dk/v1/data/FOLK1A/CSV?valuePresentation=Value&delimiter=Semicolon&OMR%C3%85DE=101&CIVILSTAND=F%2CE%2CG%2CU&Tid=2008K1%2C2021K1')\n",
    "data = pd.read_csv(url,sep=';')\n",
    "\n",
    "mask1 = data[:]['TID'] == '2008K1'\n",
    "mask2 = data[:]['TID'] == '2021K1'\n",
    "\n",
    "data_chart = pd.DataFrame({'2008' : data[mask1].iloc[:,3],\n",
    "                           '2021' : data[mask2].iloc[:,3]},\n",
    "                           index = data[mask1]['CIVILSTAND'])\n",
    "#bar_chart = data_chart.plot.bar(rot=0)\n",
    "print(data)\n",
    "print(\"\")\n",
    "print(data[mask1].iloc[:,3])\n",
    "print(\"\")\n",
    "print(data_chart)"
   ]
  },
  {
   "cell_type": "code",
   "execution_count": 35,
   "metadata": {},
   "outputs": [
    {
     "data": {
      "text/plain": [
       "<matplotlib.legend.Legend at 0x7fab63c75a10>"
      ]
     },
     "execution_count": 35,
     "metadata": {},
     "output_type": "execute_result"
    },
    {
     "data": {
      "image/png": "[encoded data removed]",
      "text/plain": [
       "<Figure size 432x288 with 1 Axes>"
      ]
     },
     "metadata": {
      "needs_background": "light"
     },
     "output_type": "display_data"
    }
   ],
   "source": [
    "# 5 C TESTER\n",
    "\n",
    "url = ('https://api.statbank.dk/v1/data/FOLK1A/CSV?valuePresentation=Value&delimiter=Semicolon&OMR%C3%85DE=101&CIVILSTAND=F%2CE%2CG%2CU&Tid=2008K1%2C2021K1')\n",
    "data = pd.read_csv(url,sep=';')\n",
    "\n",
    "df = data.groupby(['TID','CIVILSTAND']).mean().unstack()\n",
    "dfx = data.groupby(['TID','CIVILSTAND']).mean()\n",
    "\n",
    "\n",
    "graf = df.plot(kind = 'bar')\n",
    "graf.set_title(\"Civilstatus for København 2008 til 2021\", fontsize=20)\n",
    "graf.set_ylabel(\"Personer\", fontsize=16)\n",
    "graf.set_xlabel(\"Årstal\", fontsize=16)\n",
    "graf.legend(loc='center left', bbox_to_anchor = (1, 0.5))"
   ]
  },
  {
   "cell_type": "code",
   "execution_count": 47,
   "metadata": {},
   "outputs": [
    {
     "data": {
      "text/html": [
       "<div>\n",
       "<style scoped>\n",
       "    .dataframe tbody tr th:only-of-type {\n",
       "        vertical-align: middle;\n",
       "    }\n",
       "\n",
       "    .dataframe tbody tr th {\n",
       "        vertical-align: top;\n",
       "    }\n",
       "\n",
       "    .dataframe thead th {\n",
       "        text-align: right;\n",
       "    }\n",
       "</style>\n",
       "<table border=\"1\" class=\"dataframe\">\n",
       "  <thead>\n",
       "    <tr style=\"text-align: right;\">\n",
       "      <th></th>\n",
       "      <th>OMRÅDE</th>\n",
       "      <th>KØN</th>\n",
       "      <th>ALDER</th>\n",
       "      <th>CIVILSTAND</th>\n",
       "      <th>TID</th>\n",
       "      <th>INDHOLD</th>\n",
       "    </tr>\n",
       "  </thead>\n",
       "  <tbody>\n",
       "    <tr>\n",
       "      <th>0</th>\n",
       "      <td>Hele landet</td>\n",
       "      <td>I alt</td>\n",
       "      <td>I alt</td>\n",
       "      <td>Ugift</td>\n",
       "      <td>2020K4</td>\n",
       "      <td>2859116</td>\n",
       "    </tr>\n",
       "  </tbody>\n",
       "</table>\n",
       "</div>"
      ],
      "text/plain": [
       "        OMRÅDE    KØN  ALDER CIVILSTAND     TID  INDHOLD\n",
       "0  Hele landet  I alt  I alt      Ugift  2020K4  2859116"
      ]
     },
     "execution_count": 47,
     "metadata": {},
     "output_type": "execute_result"
    }
   ],
   "source": [
    "url = ('https://api.statbank.dk/v1/data/FOLK1A/CSV?valuePresentation=Value&delimiter=Semicolon&OMR%C3%85DE=000&K%C3%98N=TOT&ALDER=IALT&CIVILSTAND=U%2CG')\n",
    "url = ('https://api.statbank.dk/v1/data/FOLK1A/CSV?valuePresentation=Value&delimiter=Semicolon&OMR%C3%85DE=000&K%C3%98N=TOT&ALDER=IALT&CIVILSTAND=U%2CG&Tid=2020K4')\n",
    "data = pd.read_csv(url,sep=';')\n",
    "data_gift = data[data['CIVILSTAND']=='Gift/separeret']\n",
    "data_ugift = data[data['CIVILSTAND']=='Ugift']\n",
    "data_ugift\n"
   ]
  },
  {
   "cell_type": "markdown",
   "metadata": {},
   "source": [
    "## ALT HEREFTER ER KLADDE"
   ]
  },
  {
   "cell_type": "code",
   "execution_count": 7,
   "metadata": {},
   "outputs": [
    {
     "data": {
      "text/html": [
       "<div>\n",
       "<style scoped>\n",
       "    .dataframe tbody tr th:only-of-type {\n",
       "        vertical-align: middle;\n",
       "    }\n",
       "\n",
       "    .dataframe tbody tr th {\n",
       "        vertical-align: top;\n",
       "    }\n",
       "\n",
       "    .dataframe thead th {\n",
       "        text-align: right;\n",
       "    }\n",
       "</style>\n",
       "<table border=\"1\" class=\"dataframe\">\n",
       "  <thead>\n",
       "    <tr style=\"text-align: right;\">\n",
       "      <th></th>\n",
       "      <th>speed</th>\n",
       "      <th>lifespan</th>\n",
       "    </tr>\n",
       "  </thead>\n",
       "  <tbody>\n",
       "    <tr>\n",
       "      <th>snail</th>\n",
       "      <td>0.1</td>\n",
       "      <td>2.0</td>\n",
       "    </tr>\n",
       "    <tr>\n",
       "      <th>pig</th>\n",
       "      <td>17.5</td>\n",
       "      <td>8.0</td>\n",
       "    </tr>\n",
       "    <tr>\n",
       "      <th>elephant</th>\n",
       "      <td>40.0</td>\n",
       "      <td>70.0</td>\n",
       "    </tr>\n",
       "    <tr>\n",
       "      <th>rabbit</th>\n",
       "      <td>48.0</td>\n",
       "      <td>1.5</td>\n",
       "    </tr>\n",
       "    <tr>\n",
       "      <th>giraffe</th>\n",
       "      <td>52.0</td>\n",
       "      <td>25.0</td>\n",
       "    </tr>\n",
       "    <tr>\n",
       "      <th>coyote</th>\n",
       "      <td>69.0</td>\n",
       "      <td>12.0</td>\n",
       "    </tr>\n",
       "    <tr>\n",
       "      <th>horse</th>\n",
       "      <td>88.0</td>\n",
       "      <td>28.0</td>\n",
       "    </tr>\n",
       "  </tbody>\n",
       "</table>\n",
       "</div>"
      ],
      "text/plain": [
       "          speed  lifespan\n",
       "snail       0.1       2.0\n",
       "pig        17.5       8.0\n",
       "elephant   40.0      70.0\n",
       "rabbit     48.0       1.5\n",
       "giraffe    52.0      25.0\n",
       "coyote     69.0      12.0\n",
       "horse      88.0      28.0"
      ]
     },
     "execution_count": 7,
     "metadata": {},
     "output_type": "execute_result"
    }
   ],
   "source": [
    "speed = [0.1, 17.5, 40, 48, 52, 69, 88]\n",
    "lifespan = [2, 8, 70, 1.5, 25, 12, 28]\n",
    "indexo = ['snail', 'pig', 'elephant',\n",
    "         'rabbit', 'giraffe', 'coyote', 'horse']\n",
    "df = pd.DataFrame({'speed': speed,\n",
    "                   'lifespan': lifespan}, index=indexo)\n",
    "df\n",
    "#ax = df.plot.bar(rot=0)"
   ]
  },
  {
   "cell_type": "code",
   "execution_count": null,
   "metadata": {},
   "outputs": [],
   "source": [
    "#print(data['CIVILSTAND'])\n",
    "print(\"\")\n",
    "#print(data[mask1].iloc[:,3])\n",
    "print(\"\")\n",
    "#print(data[mask2])\n",
    "print(\"\")"
   ]
  },
  {
   "cell_type": "code",
   "execution_count": null,
   "metadata": {},
   "outputs": [],
   "source": []
  }
 ],
 "metadata": {
  "kernelspec": {
   "display_name": "Python 3",
   "language": "python",
   "name": "python3"
  },
  "language_info": {
   "codemirror_mode": {
    "name": "ipython",
    "version": 3
   },
   "file_extension": ".py",
   "mimetype": "text/x-python",
   "name": "python",
   "nbconvert_exporter": "python",
   "pygments_lexer": "ipython3",
   "version": "3.7.6"
  }
 },
 "nbformat": 4,
 "nbformat_minor": 4
}
