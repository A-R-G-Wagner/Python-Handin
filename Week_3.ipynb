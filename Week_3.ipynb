{
 "cells": [
  {
   "cell_type": "markdown",
   "metadata": {},
   "source": [
    "# Week 3 handin"
   ]
  },
  {
   "cell_type": "markdown",
   "metadata": {},
   "source": [
    "## Assignment\n",
    "\n",
    "## Ex 1 Classes\n",
    "1. Create 3 classes: Student, DataSheet and Course\n",
    "2. A student has a data_sheet and a data_sheet has multiple courses in particular order\n",
    "3. Each course has name, classroom, teacher, ETCS and optional grade if course is taken.\n",
    "4. In Student create __init__() so that a Student can be initiated with name, gender, data_sheet and image_url\n",
    "5. In DataSheet create a method to get_grades_as_list()\n",
    "6. In student create a method: get_avg_grade()\n",
    "7. Create a function that can generate n number of students with random: name, gender, courses (from a fixed list of course names), grades, img_url\n",
    "   1. Let the function write the result to a csv file with format stud_name, course_name, teacher, ects, classroom, grade, img_url\n",
    "7. Read student data into a list of Students from a csv file: \n",
    "   1. loop through the list and print each student with name, img_url and avg_grade.\n",
    "   2. sort the list by avg_grade\n",
    "   3. create a bar chart with student_name on x and avg_grade on y-axis\n",
    "8. Make a method on Student class that can show progression of the study in % (add up ECTS from all passed courses divided by total of 150 total points (equivalent to 5 semesters))\n",
    "9. Show a bar chart of distribution of study progression on x-axis and number of students in each category on y-axis. (e.g. make 10 categories from 0-100%)\n",
    "\n",
    "Extra: Make the Datasheet class iterable so that next(data_sheet) will return the next course in the list\n",
    "\n",
    "## Ex 2 Exceptions (extra)\n",
    "1. Create a function that can take a list of students and return the 3 students closest to completing their study.\n",
    "2. If list is shorter than 3 raise your own custom exception (NotEnoughStudentsException)\n",
    "3. Create another function that can create a csv file with 3 students closest to completion\n",
    "   1. If an exception is raised write an appropriate message to the file\n",
    "\n",
    "## Ex 3 Plotting (extra)\n",
    "1. Create a function that can take a list of students and show a pie chart of how students are distributed in ECTS percentage categories (10%, 20%, ...)\n",
    "2. create a function that can take a list of students and show how many students have taken each course (bar chart)\n",
    "   1. create a method on student that can return a list of courses\n",
    "3. make the figure show males and females in different colors for each course (display 2 datasets in same figure)\n"
   ]
  },
  {
   "cell_type": "markdown",
   "metadata": {},
   "source": [
    "## Status\n",
    "Ex 1 started, op til 8 færdig."
   ]
  },
  {
   "cell_type": "markdown",
   "metadata": {},
   "source": [
    "## Solution part 1"
   ]
  },
  {
   "cell_type": "code",
   "execution_count": 97,
   "metadata": {},
   "outputs": [],
   "source": [
    "#imports\n",
    "import string\n",
    "import random\n",
    "import csv"
   ]
  },
  {
   "cell_type": "code",
   "execution_count": 64,
   "metadata": {},
   "outputs": [],
   "source": [
    "class Student():\n",
    "    \n",
    "    def __init__(self, name, gender, image_url, data_sheet):\n",
    "        self.name = name\n",
    "        self.gender = gender\n",
    "        self.data_sheet = data_sheet\n",
    "        self.image_url = image_url\n",
    "        \n",
    "    def get_avg_grade(self):\n",
    "    \n",
    "        gradeList = self.data_sheet.grades_as_list()\n",
    "        average = 0\n",
    "        for x in gradeList:\n",
    "            average += x\n",
    "        average /= gradeList.len()\n",
    "        return average\n",
    "   \n",
    "    def __str__(self):\n",
    "         return '{n},{cn},{i}'.format(n=self.name, cn=self.data_sheet, i=self.image_url)\n",
    "            \n",
    "class DataSheet():\n",
    "    \n",
    "    def __init__(self,courses=[]):\n",
    "        self.courses = courses\n",
    "        \n",
    "        \n",
    "    def get_grades_as_list(self):\n",
    "        lst = []\n",
    "        for x in self.courses:\n",
    "            lst.append(x.grade)\n",
    "        return lst\n",
    "    \n",
    "    def __str__(self):\n",
    "        return '{c}'.format(c=self.courses)\n",
    "    \n",
    "#     def __str__(self):\n",
    "#         course_nr = 1\n",
    "#         String = \"\"\n",
    "#         for c in self.courses:\n",
    "#             String += \"Course \" + str(course_nr) + \": \" + c.name + \" | \" + c.teacher + \" | \" + c.etcs + \" | \" + str(c.classroom) + \" | \" + str(c.grade) +\"\\n\"\n",
    "#             course_nr += 1\n",
    "#         return String\n",
    "    \n",
    "class Course():\n",
    "    \n",
    "    def __init__(self, name, classroom, teacher, etcs, grade = -1):\n",
    "        self.name = name\n",
    "        self.classroom = classroom\n",
    "        self.teacher = teacher\n",
    "        self.etcs = etcs\n",
    "        self.grade = grade\n",
    "   \n",
    "    def __repr__(self):\n",
    "        return '%r,%r,%r,%r' % (self.name,self.teacher,self.etcs,self.grade)\n",
    "\n"
   ]
  },
  {
   "cell_type": "code",
   "execution_count": 111,
   "metadata": {},
   "outputs": [
    {
     "data": {
      "text/plain": [
       "['Mathematics','Mr. Johnson',25,-1, 'History','Ms Jannet',25,-1]"
      ]
     },
     "execution_count": 111,
     "metadata": {},
     "output_type": "execute_result"
    }
   ],
   "source": [
    "def generate_courses():\n",
    "    lst = []\n",
    "    \n",
    "    mathematics = Course(\"Mathematics\",101,\"Mr. Johnson\", 25)\n",
    "    history = Course(\"History\",104,\"Ms Jannet\", 25)\n",
    "    gym = Course(\"Gym\",500,\"Coach Ray\", 10)\n",
    "    art = Course(\"Art\",106,\"Van Claude\", 15)\n",
    "    science = Course(\"Science\", 105, \"Mr Roboto\", 20)\n",
    "    lst.append(mathematics)\n",
    "    lst.append(history)\n",
    "    return lst\n",
    "\n",
    "generate_courses()\n",
    "\n",
    "\n",
    "# data = DataSheet([mathematics,history,gym])\n",
    "# jack = Student(data, \"Jack\",\"male\",\"pic.jpeg\")\n",
    "# #print(jack.data_sheet.get_grades_as_list())\n",
    "# print(jack)"
   ]
  },
  {
   "cell_type": "code",
   "execution_count": 103,
   "metadata": {},
   "outputs": [],
   "source": [
    "def generate_students(file ,n):\n",
    "    \n",
    "    StudentNameList = [\"Andreas\", \"Alex\", \"Benjamin\", \"Nicolas\", \"Christoffer\", \"Lars\", \"Kim\", \"Henrik\", \"Victor\", \"Lenny\", \"Kasper\", \"Bo\", \"Hans\"]\n",
    "    TeatcherName = [\"Lise\", \"kurt\", \"Arne\", \"Tess\", \"Nicolaj\"]\n",
    "    ClassRoom = [1,2,3,4,5,6,7,8,9]\n",
    "    CourseName = [\"Math\", \"Chemistry\", \"Gym\", \"Art\", \"English\", \"Computer Science\", \"Physics\"]\n",
    "    Grades = [-3, 0, 2, 4, 7, 10, 12]\n",
    "    Students = []\n",
    "    \n",
    "    for x in range(n):\n",
    "        course1 = Course(random.choice(CourseName), random.choice(ClassRoom), random.choice(TeatcherName), 25, random.choice(Grades))\n",
    "        course2 = Course(random.choice(CourseName), random.choice(ClassRoom), random.choice(TeatcherName), 15, random.choice(Grades))\n",
    "        course3 = Course(random.choice(CourseName), random.choice(ClassRoom), random.choice(TeatcherName), 10, random.choice(Grades))\n",
    "        data = DataSheet([course1, course2, course3])\n",
    "        newStudent = Student(random.choice(StudentNameList), \"Male\", \"Image_url\", data)\n",
    "        Students.append(newStudent)\n",
    "        with open(file, 'a') as o:\n",
    "            o.write((newStudent.__str__()+\"\\n\").replace('\\'','').replace(']','').replace('[','') )\n",
    "            \n",
    "    \n",
    "generate_students(\"files/week03_students.txt\",5)\n"
   ]
  },
  {
   "cell_type": "code",
   "execution_count": 104,
   "metadata": {},
   "outputs": [
    {
     "name": "stdout",
     "output_type": "stream",
     "text": [
      "Nicolas,Art,Lise,25,4, Physics,Lise,15,4, Art,Lise,10,10,Image_url\n",
      "Nicolas,English,Arne,25,4, English,Tess,15,4, Gym,Nicolaj,10,-3,Image_url\n",
      "Benjamin,Computer Science,kurt,25,-3, Gym,Nicolaj,15,-3, Physics,Nicolaj,10,0,Image_url\n",
      "Hans,English,Arne,25,7, Chemistry,Arne,15,7, Math,Arne,10,12,Image_url\n",
      "Bo,Math,Nicolaj,25,10, Chemistry,Lise,15,4, Art,Arne,10,10,Image_url\n",
      "Christoffer,Physics,Lise,25,2, Chemistry,Lise,15,4, Gym,Nicolaj,10,4,Image_url\n",
      "\n"
     ]
    }
   ],
   "source": [
    "\n",
    "def print_file_content(file):\n",
    "    with open(file) as file_object:\n",
    "        contents = file_object.read()\n",
    "    print(contents)\n",
    "\n",
    "print_file_content(\"files/week03_students.txt\")\n"
   ]
  },
  {
   "cell_type": "code",
   "execution_count": null,
   "metadata": {},
   "outputs": [],
   "source": [
    "def studentList(file):\n",
    "    \n",
    "    get"
   ]
  },
  {
   "cell_type": "markdown",
   "metadata": {},
   "source": [
    "## Solution part 2"
   ]
  },
  {
   "cell_type": "code",
   "execution_count": null,
   "metadata": {},
   "outputs": [],
   "source": []
  },
  {
   "cell_type": "code",
   "execution_count": null,
   "metadata": {},
   "outputs": [],
   "source": []
  },
  {
   "cell_type": "code",
   "execution_count": null,
   "metadata": {},
   "outputs": [],
   "source": []
  }
 ],
 "metadata": {
  "kernelspec": {
   "display_name": "Python 3",
   "language": "python",
   "name": "python3"
  },
  "language_info": {
   "codemirror_mode": {
    "name": "ipython",
    "version": 3
   },
   "file_extension": ".py",
   "mimetype": "text/x-python",
   "name": "python",
   "nbconvert_exporter": "python",
   "pygments_lexer": "ipython3",
   "version": "3.7.6"
  }
 },
 "nbformat": 4,
 "nbformat_minor": 4
}
